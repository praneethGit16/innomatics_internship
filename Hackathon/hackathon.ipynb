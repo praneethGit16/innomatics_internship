{
  "nbformat": 4,
  "nbformat_minor": 0,
  "metadata": {
    "colab": {
      "name": "hackathon.ipynb",
      "provenance": [],
      "collapsed_sections": []
    },
    "kernelspec": {
      "name": "python3",
      "display_name": "Python 3"
    },
    "language_info": {
      "name": "python"
    }
  },
  "cells": [
    {
      "cell_type": "code",
      "metadata": {
        "id": "BblfljJg5C5Y"
      },
      "source": [
        "import pandas as pd\n",
        "import numpy as np\n",
        "import seaborn as sns\n",
        "import warnings\n",
        "warnings.filterwarnings('ignore')"
      ],
      "execution_count": 34,
      "outputs": []
    },
    {
      "cell_type": "markdown",
      "metadata": {
        "id": "v8bnyVZr6EiN"
      },
      "source": [
        "Loading the Data"
      ]
    },
    {
      "cell_type": "code",
      "metadata": {
        "id": "cYA__fzD5bXT"
      },
      "source": [
        "df = pd.read_csv('/data.csv')"
      ],
      "execution_count": 8,
      "outputs": []
    },
    {
      "cell_type": "code",
      "metadata": {
        "colab": {
          "base_uri": "https://localhost:8080/",
          "height": 202
        },
        "id": "9OO8uq455fu9",
        "outputId": "0cab8723-5851-4929-b736-7ad5d89b38a9"
      },
      "source": [
        "df.head()"
      ],
      "execution_count": 9,
      "outputs": [
        {
          "output_type": "execute_result",
          "data": {
            "text/html": [
              "<div>\n",
              "<style scoped>\n",
              "    .dataframe tbody tr th:only-of-type {\n",
              "        vertical-align: middle;\n",
              "    }\n",
              "\n",
              "    .dataframe tbody tr th {\n",
              "        vertical-align: top;\n",
              "    }\n",
              "\n",
              "    .dataframe thead th {\n",
              "        text-align: right;\n",
              "    }\n",
              "</style>\n",
              "<table border=\"1\" class=\"dataframe\">\n",
              "  <thead>\n",
              "    <tr style=\"text-align: right;\">\n",
              "      <th></th>\n",
              "      <th>x1</th>\n",
              "      <th>x2</th>\n",
              "      <th>y</th>\n",
              "    </tr>\n",
              "  </thead>\n",
              "  <tbody>\n",
              "    <tr>\n",
              "      <th>0</th>\n",
              "      <td>-119.366669</td>\n",
              "      <td>115.000000</td>\n",
              "      <td>1</td>\n",
              "    </tr>\n",
              "    <tr>\n",
              "      <th>1</th>\n",
              "      <td>-101.108044</td>\n",
              "      <td>97.777159</td>\n",
              "      <td>1</td>\n",
              "    </tr>\n",
              "    <tr>\n",
              "      <th>2</th>\n",
              "      <td>-130.278658</td>\n",
              "      <td>106.767654</td>\n",
              "      <td>1</td>\n",
              "    </tr>\n",
              "    <tr>\n",
              "      <th>3</th>\n",
              "      <td>-114.703415</td>\n",
              "      <td>101.195477</td>\n",
              "      <td>1</td>\n",
              "    </tr>\n",
              "    <tr>\n",
              "      <th>4</th>\n",
              "      <td>-119.366669</td>\n",
              "      <td>115.000000</td>\n",
              "      <td>1</td>\n",
              "    </tr>\n",
              "  </tbody>\n",
              "</table>\n",
              "</div>"
            ],
            "text/plain": [
              "           x1          x2  y\n",
              "0 -119.366669  115.000000  1\n",
              "1 -101.108044   97.777159  1\n",
              "2 -130.278658  106.767654  1\n",
              "3 -114.703415  101.195477  1\n",
              "4 -119.366669  115.000000  1"
            ]
          },
          "metadata": {
            "tags": []
          },
          "execution_count": 9
        }
      ]
    },
    {
      "cell_type": "markdown",
      "metadata": {
        "id": "LwSxl9Y26TFS"
      },
      "source": [
        "Checking Shape of DataFrame"
      ]
    },
    {
      "cell_type": "code",
      "metadata": {
        "colab": {
          "base_uri": "https://localhost:8080/"
        },
        "id": "fUhhZ3FY5wJx",
        "outputId": "661c2a88-41b2-4241-ad6e-7a84bdef20be"
      },
      "source": [
        "df.shape"
      ],
      "execution_count": 24,
      "outputs": [
        {
          "output_type": "execute_result",
          "data": {
            "text/plain": [
              "(2217, 3)"
            ]
          },
          "metadata": {
            "tags": []
          },
          "execution_count": 24
        }
      ]
    },
    {
      "cell_type": "markdown",
      "metadata": {
        "id": "0GSEeDrU6tLn"
      },
      "source": [
        "Handling  Missing Values \n"
      ]
    },
    {
      "cell_type": "code",
      "metadata": {
        "colab": {
          "base_uri": "https://localhost:8080/"
        },
        "id": "3id4bPDD527l",
        "outputId": "b6ea6b30-f949-44d1-cf01-1661c12b895f"
      },
      "source": [
        "df.isnull().sum()"
      ],
      "execution_count": 11,
      "outputs": [
        {
          "output_type": "execute_result",
          "data": {
            "text/plain": [
              "x1    5\n",
              "x2    3\n",
              "y     0\n",
              "dtype: int64"
            ]
          },
          "metadata": {
            "tags": []
          },
          "execution_count": 11
        }
      ]
    },
    {
      "cell_type": "code",
      "metadata": {
        "id": "fpEWbQKq65NJ"
      },
      "source": [
        "df = df.dropna()"
      ],
      "execution_count": 13,
      "outputs": []
    },
    {
      "cell_type": "code",
      "metadata": {
        "colab": {
          "base_uri": "https://localhost:8080/"
        },
        "id": "Pqcs4L897SLP",
        "outputId": "abb7bc2f-52e0-46e6-8643-1f5e30abce48"
      },
      "source": [
        "df.isnull().sum()"
      ],
      "execution_count": 14,
      "outputs": [
        {
          "output_type": "execute_result",
          "data": {
            "text/plain": [
              "x1    0\n",
              "x2    0\n",
              "y     0\n",
              "dtype: int64"
            ]
          },
          "metadata": {
            "tags": []
          },
          "execution_count": 14
        }
      ]
    },
    {
      "cell_type": "markdown",
      "metadata": {
        "id": "p2HHJszM7B5U"
      },
      "source": [
        "Handling Outliers in Data"
      ]
    },
    {
      "cell_type": "code",
      "metadata": {
        "colab": {
          "base_uri": "https://localhost:8080/",
          "height": 297
        },
        "id": "EH9lR8Nm7fYo",
        "outputId": "bf79c7ae-9bb8-457a-f597-c5be237f6ea6"
      },
      "source": [
        "sns.boxplot(data = df ,x='x1')"
      ],
      "execution_count": 15,
      "outputs": [
        {
          "output_type": "execute_result",
          "data": {
            "text/plain": [
              "<matplotlib.axes._subplots.AxesSubplot at 0x7fab36d85050>"
            ]
          },
          "metadata": {
            "tags": []
          },
          "execution_count": 15
        },
        {
          "output_type": "display_data",
          "data": {
            "image/png": "[encoded data removed]",
            "text/plain": [
              "<Figure size 432x288 with 1 Axes>"
            ]
          },
          "metadata": {
            "tags": [],
            "needs_background": "light"
          }
        }
      ]
    },
    {
      "cell_type": "code",
      "metadata": {
        "colab": {
          "base_uri": "https://localhost:8080/",
          "height": 297
        },
        "id": "o37RUpcV7nBD",
        "outputId": "e797cdd0-f6f4-4398-94b5-532db7319b2c"
      },
      "source": [
        "sns.boxplot(data=df,x='x2')"
      ],
      "execution_count": 23,
      "outputs": [
        {
          "output_type": "execute_result",
          "data": {
            "text/plain": [
              "<matplotlib.axes._subplots.AxesSubplot at 0x7fab20f20fd0>"
            ]
          },
          "metadata": {
            "tags": []
          },
          "execution_count": 23
        },
        {
          "output_type": "display_data",
          "data": {
            "image/png": "[encoded data removed]",
            "text/plain": [
              "<Figure size 432x288 with 1 Axes>"
            ]
          },
          "metadata": {
            "tags": [],
            "needs_background": "light"
          }
        }
      ]
    },
    {
      "cell_type": "code",
      "metadata": {
        "colab": {
          "base_uri": "https://localhost:8080/",
          "height": 294
        },
        "id": "SM_09elJ7t39",
        "outputId": "24659f4a-3c64-4cd7-f2e6-e9e2c0bbd755"
      },
      "source": [
        "df.describe()"
      ],
      "execution_count": 25,
      "outputs": [
        {
          "output_type": "execute_result",
          "data": {
            "text/html": [
              "<div>\n",
              "<style scoped>\n",
              "    .dataframe tbody tr th:only-of-type {\n",
              "        vertical-align: middle;\n",
              "    }\n",
              "\n",
              "    .dataframe tbody tr th {\n",
              "        vertical-align: top;\n",
              "    }\n",
              "\n",
              "    .dataframe thead th {\n",
              "        text-align: right;\n",
              "    }\n",
              "</style>\n",
              "<table border=\"1\" class=\"dataframe\">\n",
              "  <thead>\n",
              "    <tr style=\"text-align: right;\">\n",
              "      <th></th>\n",
              "      <th>x1</th>\n",
              "      <th>x2</th>\n",
              "      <th>y</th>\n",
              "    </tr>\n",
              "  </thead>\n",
              "  <tbody>\n",
              "    <tr>\n",
              "      <th>count</th>\n",
              "      <td>2217.000000</td>\n",
              "      <td>2217.000000</td>\n",
              "      <td>2217.000000</td>\n",
              "    </tr>\n",
              "    <tr>\n",
              "      <th>mean</th>\n",
              "      <td>-4.855645</td>\n",
              "      <td>-6.730568</td>\n",
              "      <td>0.442490</td>\n",
              "    </tr>\n",
              "    <tr>\n",
              "      <th>std</th>\n",
              "      <td>74.917277</td>\n",
              "      <td>79.843938</td>\n",
              "      <td>0.496794</td>\n",
              "    </tr>\n",
              "    <tr>\n",
              "      <th>min</th>\n",
              "      <td>-134.369160</td>\n",
              "      <td>-134.876132</td>\n",
              "      <td>0.000000</td>\n",
              "    </tr>\n",
              "    <tr>\n",
              "      <th>25%</th>\n",
              "      <td>-71.626564</td>\n",
              "      <td>-80.519315</td>\n",
              "      <td>0.000000</td>\n",
              "    </tr>\n",
              "    <tr>\n",
              "      <th>50%</th>\n",
              "      <td>-9.922271</td>\n",
              "      <td>-1.827336</td>\n",
              "      <td>0.000000</td>\n",
              "    </tr>\n",
              "    <tr>\n",
              "      <th>75%</th>\n",
              "      <td>59.633331</td>\n",
              "      <td>63.622498</td>\n",
              "      <td>1.000000</td>\n",
              "    </tr>\n",
              "    <tr>\n",
              "      <th>max</th>\n",
              "      <td>134.508687</td>\n",
              "      <td>134.929748</td>\n",
              "      <td>1.000000</td>\n",
              "    </tr>\n",
              "  </tbody>\n",
              "</table>\n",
              "</div>"
            ],
            "text/plain": [
              "                x1           x2            y\n",
              "count  2217.000000  2217.000000  2217.000000\n",
              "mean     -4.855645    -6.730568     0.442490\n",
              "std      74.917277    79.843938     0.496794\n",
              "min    -134.369160  -134.876132     0.000000\n",
              "25%     -71.626564   -80.519315     0.000000\n",
              "50%      -9.922271    -1.827336     0.000000\n",
              "75%      59.633331    63.622498     1.000000\n",
              "max     134.508687   134.929748     1.000000"
            ]
          },
          "metadata": {
            "tags": []
          },
          "execution_count": 25
        }
      ]
    },
    {
      "cell_type": "code",
      "metadata": {
        "colab": {
          "base_uri": "https://localhost:8080/"
        },
        "id": "snrXnwIG8tsP",
        "outputId": "d1814f92-2b2b-4d33-9950-c6c3869389b9"
      },
      "source": [
        "Q1=df['x2'].quantile(0.25)\n",
        "Q3=df['x2'].quantile(0.75)\n",
        "IQR=Q3-Q1\n",
        "print(Q1)\n",
        "print(Q3)\n",
        "print(IQR)\n",
        "Lower_Whisker = Q1-1.5*IQR\n",
        "Upper_Whisker = Q3+1.5*IQR"
      ],
      "execution_count": 21,
      "outputs": [
        {
          "output_type": "stream",
          "text": [
            "-80.25965764\n",
            "63.904483264999996\n",
            "144.164140905\n"
          ],
          "name": "stdout"
        }
      ]
    },
    {
      "cell_type": "code",
      "metadata": {
        "id": "IyG22eFU9rHJ"
      },
      "source": [
        "df = df[df['x2'] < Upper_Whisker]"
      ],
      "execution_count": 22,
      "outputs": []
    },
    {
      "cell_type": "markdown",
      "metadata": {
        "id": "hJHnrFPB-7XH"
      },
      "source": [
        "Train_Test_Split"
      ]
    },
    {
      "cell_type": "code",
      "metadata": {
        "id": "GVloMjas_-w5"
      },
      "source": [
        "data = df.drop('y',axis = 1)\n",
        "target = df['y']"
      ],
      "execution_count": 26,
      "outputs": []
    },
    {
      "cell_type": "code",
      "metadata": {
        "id": "QJY1-1V29zm5"
      },
      "source": [
        "from sklearn.model_selection import train_test_split\n",
        "X_train, X_test, y_train, y_test = train_test_split(data, target, test_size = 0.25, random_state = 0)"
      ],
      "execution_count": 28,
      "outputs": []
    },
    {
      "cell_type": "markdown",
      "metadata": {
        "id": "X71NhrpzBiQl"
      },
      "source": [
        "Hyperparameter Tuning For Logistic Regression"
      ]
    },
    {
      "cell_type": "code",
      "metadata": {
        "id": "tVD_nVb9Bl9a"
      },
      "source": [
        "from sklearn.linear_model import LogisticRegression\n",
        "from sklearn.metrics import classification_report\n",
        "from sklearn.model_selection import RandomizedSearchCV"
      ],
      "execution_count": 30,
      "outputs": []
    },
    {
      "cell_type": "code",
      "metadata": {
        "colab": {
          "base_uri": "https://localhost:8080/"
        },
        "id": "9qNLo23tBt5t",
        "outputId": "18219dcc-043a-4f36-b5ed-604ab6dfbb7e"
      },
      "source": [
        "tuned_parameters = [{'C':[1, 2, 3, 4, 5], 'penalty':['l2','l1','l3']}]\n",
        "score = ['accuracy','precision','recall']                    \n",
        "for i in score:                   \n",
        "    clf = RandomizedSearchCV( LogisticRegression(), tuned_parameters, scoring='{}'.format(i))\n",
        "    clf.fit(X_train, y_train)\n",
        "    print(\"Best parameters set found on train set:\")\n",
        "    print('for {}'.format(i))\n",
        "    print(clf.best_params_)\n",
        "    print(clf.best_estimator_)\n",
        "    print(clf.score(X_test, y_test))"
      ],
      "execution_count": 35,
      "outputs": [
        {
          "output_type": "stream",
          "text": [
            "Best parameters set found on train set:\n",
            "for accuracy\n",
            "{'penalty': 'l2', 'C': 1}\n",
            "LogisticRegression(C=1, class_weight=None, dual=False, fit_intercept=True,\n",
            "                   intercept_scaling=1, l1_ratio=None, max_iter=100,\n",
            "                   multi_class='auto', n_jobs=None, penalty='l2',\n",
            "                   random_state=None, solver='lbfgs', tol=0.0001, verbose=0,\n",
            "                   warm_start=False)\n",
            "0.7513513513513513\n",
            "Best parameters set found on train set:\n",
            "for precision\n",
            "{'penalty': 'l2', 'C': 5}\n",
            "LogisticRegression(C=5, class_weight=None, dual=False, fit_intercept=True,\n",
            "                   intercept_scaling=1, l1_ratio=None, max_iter=100,\n",
            "                   multi_class='auto', n_jobs=None, penalty='l2',\n",
            "                   random_state=None, solver='lbfgs', tol=0.0001, verbose=0,\n",
            "                   warm_start=False)\n",
            "1.0\n",
            "Best parameters set found on train set:\n",
            "for recall\n",
            "{'penalty': 'l2', 'C': 2}\n",
            "LogisticRegression(C=2, class_weight=None, dual=False, fit_intercept=True,\n",
            "                   intercept_scaling=1, l1_ratio=None, max_iter=100,\n",
            "                   multi_class='auto', n_jobs=None, penalty='l2',\n",
            "                   random_state=None, solver='lbfgs', tol=0.0001, verbose=0,\n",
            "                   warm_start=False)\n",
            "0.43673469387755104\n"
          ],
          "name": "stdout"
        }
      ]
    },
    {
      "cell_type": "markdown",
      "metadata": {
        "id": "_KkvfP_NCvTP"
      },
      "source": [
        "Traning The Model"
      ]
    },
    {
      "cell_type": "code",
      "metadata": {
        "colab": {
          "base_uri": "https://localhost:8080/"
        },
        "id": "afxL10hSCv9s",
        "outputId": "d074c464-28ff-41f5-df45-ad35f0ebc3b4"
      },
      "source": [
        "classifier = LogisticRegression(penalty='l2',C=5)\n",
        "classifier.fit(X_train, y_train)"
      ],
      "execution_count": 37,
      "outputs": [
        {
          "output_type": "execute_result",
          "data": {
            "text/plain": [
              "LogisticRegression(C=5, class_weight=None, dual=False, fit_intercept=True,\n",
              "                   intercept_scaling=1, l1_ratio=None, max_iter=100,\n",
              "                   multi_class='auto', n_jobs=None, penalty='l2',\n",
              "                   random_state=None, solver='lbfgs', tol=0.0001, verbose=0,\n",
              "                   warm_start=False)"
            ]
          },
          "metadata": {
            "tags": []
          },
          "execution_count": 37
        }
      ]
    },
    {
      "cell_type": "code",
      "metadata": {
        "id": "6wqb3K9HC747"
      },
      "source": [
        "y_test_pred = classifier.predict(X_test)"
      ],
      "execution_count": 39,
      "outputs": []
    },
    {
      "cell_type": "code",
      "metadata": {
        "colab": {
          "base_uri": "https://localhost:8080/"
        },
        "id": "u6S3Du7bDTqZ",
        "outputId": "f2362482-8b3f-4dae-f7be-e72a923dba45"
      },
      "source": [
        "from sklearn import metrics\n",
        "print(metrics.accuracy_score(y_test, y_test_pred))\n",
        "print(metrics.precision_score(y_test,y_test_pred))\n",
        "print(metrics.roc_auc_score(y_test,y_test_pred))\n",
        "print(metrics.f1_score(y_test,y_test_pred))\n",
        "print(metrics.recall_score(y_test,y_test_pred))"
      ],
      "execution_count": 40,
      "outputs": [
        {
          "output_type": "stream",
          "text": [
            "0.7513513513513513\n",
            "1.0\n",
            "0.7183673469387755\n",
            "0.6079545454545455\n",
            "0.43673469387755104\n"
          ],
          "name": "stdout"
        }
      ]
    },
    {
      "cell_type": "markdown",
      "metadata": {
        "id": "eQmQU-eVD-C7"
      },
      "source": [
        "HyperParameter Tuning with SVM"
      ]
    },
    {
      "cell_type": "code",
      "metadata": {
        "id": "DTptX0NhDkdC"
      },
      "source": [
        "from sklearn.svm import SVC"
      ],
      "execution_count": 41,
      "outputs": []
    },
    {
      "cell_type": "code",
      "metadata": {
        "colab": {
          "base_uri": "https://localhost:8080/"
        },
        "id": "yOL-Etg1EHn8",
        "outputId": "ccb13007-9c9c-44cc-970f-eb54703f69fe"
      },
      "source": [
        "classifier_2 = SVC(kernel='linear')  \n",
        "classifier_2.fit(X_train,y_train)"
      ],
      "execution_count": 44,
      "outputs": [
        {
          "output_type": "execute_result",
          "data": {
            "text/plain": [
              "SVC(C=1.0, break_ties=False, cache_size=200, class_weight=None, coef0=0.0,\n",
              "    decision_function_shape='ovr', degree=3, gamma='scale', kernel='linear',\n",
              "    max_iter=-1, probability=False, random_state=None, shrinking=True,\n",
              "    tol=0.001, verbose=False)"
            ]
          },
          "metadata": {
            "tags": []
          },
          "execution_count": 44
        }
      ]
    },
    {
      "cell_type": "code",
      "metadata": {
        "id": "MHewXm7dEwMi"
      },
      "source": [
        "y_test_pred_2 = classifier_2.predict(X_test)"
      ],
      "execution_count": 46,
      "outputs": []
    },
    {
      "cell_type": "code",
      "metadata": {
        "colab": {
          "base_uri": "https://localhost:8080/"
        },
        "id": "rBZje0ixF9LG",
        "outputId": "2309acd4-be32-45a0-cf32-d492562c781e"
      },
      "source": [
        "from sklearn import metrics\n",
        "print(metrics.accuracy_score(y_test, y_test_pred_2))\n",
        "print(metrics.precision_score(y_test,y_test_pred_2))\n",
        "print(metrics.roc_auc_score(y_test,y_test_pred_2))\n",
        "print(metrics.f1_score(y_test,y_test_pred_2))\n",
        "print(metrics.recall_score(y_test,y_test_pred_2))"
      ],
      "execution_count": 47,
      "outputs": [
        {
          "output_type": "stream",
          "text": [
            "0.745945945945946\n",
            "1.0\n",
            "0.7122448979591837\n",
            "0.5959885386819485\n",
            "0.42448979591836733\n"
          ],
          "name": "stdout"
        }
      ]
    },
    {
      "cell_type": "code",
      "metadata": {
        "colab": {
          "base_uri": "https://localhost:8080/"
        },
        "id": "8-nCX7m2GV2n",
        "outputId": "13b30dc7-1288-474c-ad2b-bb5125f234fd"
      },
      "source": [
        "classifier_3 = SVC(kernel='rbf')  \n",
        "classifier_3.fit(X_train,y_train)"
      ],
      "execution_count": 48,
      "outputs": [
        {
          "output_type": "execute_result",
          "data": {
            "text/plain": [
              "SVC(C=1.0, break_ties=False, cache_size=200, class_weight=None, coef0=0.0,\n",
              "    decision_function_shape='ovr', degree=3, gamma='scale', kernel='rbf',\n",
              "    max_iter=-1, probability=False, random_state=None, shrinking=True,\n",
              "    tol=0.001, verbose=False)"
            ]
          },
          "metadata": {
            "tags": []
          },
          "execution_count": 48
        }
      ]
    },
    {
      "cell_type": "markdown",
      "metadata": {
        "id": "BK60PhlhGnHN"
      },
      "source": [
        ""
      ]
    },
    {
      "cell_type": "code",
      "metadata": {
        "id": "ecjSkju1GnqO"
      },
      "source": [
        "y_test_pred_3 = classifier_3.predict(X_test)"
      ],
      "execution_count": 49,
      "outputs": []
    },
    {
      "cell_type": "code",
      "metadata": {
        "colab": {
          "base_uri": "https://localhost:8080/"
        },
        "id": "E0mPQx11GsYp",
        "outputId": "53fd180a-af3d-452e-aabb-60e18131298f"
      },
      "source": [
        "from sklearn import metrics\n",
        "print(metrics.accuracy_score(y_test, y_test_pred_3))\n",
        "print(metrics.precision_score(y_test,y_test_pred_3))\n",
        "print(metrics.roc_auc_score(y_test,y_test_pred_3))\n",
        "print(metrics.f1_score(y_test,y_test_pred_3))\n",
        "print(metrics.recall_score(y_test,y_test_pred_3))"
      ],
      "execution_count": 50,
      "outputs": [
        {
          "output_type": "stream",
          "text": [
            "0.9567567567567568\n",
            "0.9437751004016064\n",
            "0.9570111915734035\n",
            "0.9514170040485829\n",
            "0.9591836734693877\n"
          ],
          "name": "stdout"
        }
      ]
    },
    {
      "cell_type": "markdown",
      "metadata": {
        "id": "9vN6ktwUG5AR"
      },
      "source": [
        "HyperParamter Tuning With Decison Tree"
      ]
    },
    {
      "cell_type": "code",
      "metadata": {
        "id": "XUaWZ3G7G1aQ"
      },
      "source": [
        "from sklearn.tree import DecisionTreeClassifier \n"
      ],
      "execution_count": 51,
      "outputs": []
    },
    {
      "cell_type": "code",
      "metadata": {
        "colab": {
          "base_uri": "https://localhost:8080/"
        },
        "id": "pfSMWX8qHU8I",
        "outputId": "9eef6a67-ef2b-482d-ab40-64f8e74ffc73"
      },
      "source": [
        "tuned_parameters = [{'max_depth':[1,2,3,4,5]}]\n",
        "em = ['accuracy','precision','recall']\n",
        "\n",
        "for i in em:\n",
        "    clf2 = RandomizedSearchCV(DecisionTreeClassifier(), tuned_parameters, scoring='{}'.format(i))\n",
        "    clf2.fit(X_train, y_train)\n",
        "    print('for {}'.format(i))\n",
        "    print(\"Best parameters set found on train set:\")\n",
        "    print(clf2.best_params_)\n",
        "    print(clf2.best_estimator_)\n",
        "    print(clf2.score(X_test, y_test))\n",
        "    print()"
      ],
      "execution_count": 52,
      "outputs": [
        {
          "output_type": "stream",
          "text": [
            "for accuracy\n",
            "Best parameters set found on train set:\n",
            "{'max_depth': 5}\n",
            "DecisionTreeClassifier(ccp_alpha=0.0, class_weight=None, criterion='gini',\n",
            "                       max_depth=5, max_features=None, max_leaf_nodes=None,\n",
            "                       min_impurity_decrease=0.0, min_impurity_split=None,\n",
            "                       min_samples_leaf=1, min_samples_split=2,\n",
            "                       min_weight_fraction_leaf=0.0, presort='deprecated',\n",
            "                       random_state=None, splitter='best')\n",
            "0.9297297297297298\n",
            "\n",
            "for precision\n",
            "Best parameters set found on train set:\n",
            "{'max_depth': 4}\n",
            "DecisionTreeClassifier(ccp_alpha=0.0, class_weight=None, criterion='gini',\n",
            "                       max_depth=4, max_features=None, max_leaf_nodes=None,\n",
            "                       min_impurity_decrease=0.0, min_impurity_split=None,\n",
            "                       min_samples_leaf=1, min_samples_split=2,\n",
            "                       min_weight_fraction_leaf=0.0, presort='deprecated',\n",
            "                       random_state=None, splitter='best')\n",
            "1.0\n",
            "\n",
            "for recall\n",
            "Best parameters set found on train set:\n",
            "{'max_depth': 2}\n",
            "DecisionTreeClassifier(ccp_alpha=0.0, class_weight=None, criterion='gini',\n",
            "                       max_depth=2, max_features=None, max_leaf_nodes=None,\n",
            "                       min_impurity_decrease=0.0, min_impurity_split=None,\n",
            "                       min_samples_leaf=1, min_samples_split=2,\n",
            "                       min_weight_fraction_leaf=0.0, presort='deprecated',\n",
            "                       random_state=None, splitter='best')\n",
            "0.9714285714285714\n",
            "\n"
          ],
          "name": "stdout"
        }
      ]
    },
    {
      "cell_type": "code",
      "metadata": {
        "colab": {
          "base_uri": "https://localhost:8080/"
        },
        "id": "X4Wcbsx6IS18",
        "outputId": "36368144-f42e-45e5-ee39-88dffe3ff250"
      },
      "source": [
        "classifier_4 = DecisionTreeClassifier(max_depth = 2)\n",
        "classifier_4.fit(X_train, y_train)"
      ],
      "execution_count": 53,
      "outputs": [
        {
          "output_type": "execute_result",
          "data": {
            "text/plain": [
              "DecisionTreeClassifier(ccp_alpha=0.0, class_weight=None, criterion='gini',\n",
              "                       max_depth=2, max_features=None, max_leaf_nodes=None,\n",
              "                       min_impurity_decrease=0.0, min_impurity_split=None,\n",
              "                       min_samples_leaf=1, min_samples_split=2,\n",
              "                       min_weight_fraction_leaf=0.0, presort='deprecated',\n",
              "                       random_state=None, splitter='best')"
            ]
          },
          "metadata": {
            "tags": []
          },
          "execution_count": 53
        }
      ]
    },
    {
      "cell_type": "code",
      "metadata": {
        "id": "1Nm7r3-RIXca"
      },
      "source": [
        "y_test_pred_4 = classifier_4.predict(X_test)"
      ],
      "execution_count": 54,
      "outputs": []
    },
    {
      "cell_type": "code",
      "metadata": {
        "colab": {
          "base_uri": "https://localhost:8080/"
        },
        "id": "v6UKolbLIXq6",
        "outputId": "1dfa97eb-9453-4391-8a1c-3dec54a78f69"
      },
      "source": [
        "from sklearn import metrics\n",
        "print(metrics.accuracy_score(y_test, y_test_pred_4))\n",
        "print(metrics.precision_score(y_test,y_test_pred_4))\n",
        "print(metrics.roc_auc_score(y_test,y_test_pred_4))\n",
        "print(metrics.f1_score(y_test,y_test_pred_4))\n",
        "print(metrics.recall_score(y_test,y_test_pred_4))"
      ],
      "execution_count": 55,
      "outputs": [
        {
          "output_type": "stream",
          "text": [
            "0.7153153153153153\n",
            "0.6118251928020566\n",
            "0.7421658986175116\n",
            "0.750788643533123\n",
            "0.9714285714285714\n"
          ],
          "name": "stdout"
        }
      ]
    },
    {
      "cell_type": "markdown",
      "metadata": {
        "id": "sKNEI9XpIxqF"
      },
      "source": [
        "HyperParameter Tuning With KNN"
      ]
    },
    {
      "cell_type": "code",
      "metadata": {
        "colab": {
          "base_uri": "https://localhost:8080/"
        },
        "id": "eqOSURQ3IXzt",
        "outputId": "0e80ebec-67fb-45d7-c53d-bbe27fe4f29c"
      },
      "source": [
        "from sklearn.neighbors import KNeighborsClassifier\n",
        "tuned_parameters = [{'n_neighbors':[1, 2, 3, 4, 5], 'p':[1, 2, 3]}]\n",
        "\n",
        "clf3 = RandomizedSearchCV(KNeighborsClassifier(), tuned_parameters, scoring='accuracy')\n",
        "clf3.fit(X_train, y_train)\n",
        "\n",
        "print(\"Best parameters set found on train set:\")\n",
        "print(clf3.best_params_)\n",
        "print(clf3.best_estimator_)\n",
        "print()\n",
        "\n",
        "print(clf3.score(X_test, y_test))"
      ],
      "execution_count": 56,
      "outputs": [
        {
          "output_type": "stream",
          "text": [
            "Best parameters set found on train set:\n",
            "{'p': 3, 'n_neighbors': 5}\n",
            "KNeighborsClassifier(algorithm='auto', leaf_size=30, metric='minkowski',\n",
            "                     metric_params=None, n_jobs=None, n_neighbors=5, p=3,\n",
            "                     weights='uniform')\n",
            "\n",
            "0.9513513513513514\n"
          ],
          "name": "stdout"
        }
      ]
    },
    {
      "cell_type": "code",
      "metadata": {
        "colab": {
          "base_uri": "https://localhost:8080/"
        },
        "id": "yPg9DzaIJbrr",
        "outputId": "606d3bc4-14a0-4793-c480-2d0c79f5967e"
      },
      "source": [
        "classifier_5= KNeighborsClassifier(n_neighbors=5,p=3)\n",
        "classifier_5.fit(X_train, y_train)"
      ],
      "execution_count": 59,
      "outputs": [
        {
          "output_type": "execute_result",
          "data": {
            "text/plain": [
              "KNeighborsClassifier(algorithm='auto', leaf_size=30, metric='minkowski',\n",
              "                     metric_params=None, n_jobs=None, n_neighbors=5, p=3,\n",
              "                     weights='uniform')"
            ]
          },
          "metadata": {
            "tags": []
          },
          "execution_count": 59
        }
      ]
    },
    {
      "cell_type": "code",
      "metadata": {
        "id": "Rloan7dpJGfB"
      },
      "source": [
        "y_test_pred_5 = classifier_5.predict(X_test)"
      ],
      "execution_count": 60,
      "outputs": []
    },
    {
      "cell_type": "code",
      "metadata": {
        "colab": {
          "base_uri": "https://localhost:8080/"
        },
        "id": "c6ToFClQKmRH",
        "outputId": "6823ac92-7d44-4ea6-9446-160b01651720"
      },
      "source": [
        "from sklearn import metrics\n",
        "print(metrics.accuracy_score(y_test, y_test_pred_5))\n",
        "print(metrics.precision_score(y_test,y_test_pred_5))\n",
        "print(metrics.roc_auc_score(y_test,y_test_pred_5))\n",
        "print(metrics.f1_score(y_test,y_test_pred_5))\n",
        "print(metrics.recall_score(y_test,y_test_pred_5))"
      ],
      "execution_count": 61,
      "outputs": [
        {
          "output_type": "stream",
          "text": [
            "0.9513513513513514\n",
            "0.943089430894309\n",
            "0.9508887425938117\n",
            "0.945010183299389\n",
            "0.9469387755102041\n"
          ],
          "name": "stdout"
        }
      ]
    },
    {
      "cell_type": "markdown",
      "metadata": {
        "id": "ZR4smJMdLAXe"
      },
      "source": [
        "Data Visualization\n"
      ]
    },
    {
      "cell_type": "code",
      "metadata": {
        "colab": {
          "base_uri": "https://localhost:8080/",
          "height": 297
        },
        "id": "FFG7GsHwKquc",
        "outputId": "ea0e0483-eadc-4ecc-9422-3f7cfdaf1fca"
      },
      "source": [
        "sns.scatterplot(data = df , x = 'x1',y='x2')"
      ],
      "execution_count": 62,
      "outputs": [
        {
          "output_type": "execute_result",
          "data": {
            "text/plain": [
              "<matplotlib.axes._subplots.AxesSubplot at 0x7fab17a39c90>"
            ]
          },
          "metadata": {
            "tags": []
          },
          "execution_count": 62
        },
        {
          "output_type": "display_data",
          "data": {
            "image/png": "[encoded data removed]",
            "text/plain": [
              "<Figure size 432x288 with 1 Axes>"
            ]
          },
          "metadata": {
            "tags": [],
            "needs_background": "light"
          }
        }
      ]
    },
    {
      "cell_type": "markdown",
      "metadata": {
        "id": "fCXzkRJ4LF96"
      },
      "source": [
        "\n",
        "\n",
        "1.   From the above scatterplot we can say that our data is in non linear form.\n",
        "2.   By training all the model SVM rbf kernel is giving more accuracy than the other Algorithms.\n",
        "SVM Transforms the Non linear data into higher dimensions using Kernel Trick and separates the Data using HyperPlane and Classfies the Input Variables Perfectly\n",
        "\n",
        "\n",
        "\n",
        "\n"
      ]
    },
    {
      "cell_type": "markdown",
      "metadata": {
        "id": "rKERqMvALE_p"
      },
      "source": [
        ""
      ]
    }
  ]
}